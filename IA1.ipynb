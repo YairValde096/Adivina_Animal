{
 "cells": [
  {
   "cell_type": "code",
   "execution_count": 26,
   "metadata": {},
   "outputs": [
    {
     "name": "stdout",
     "output_type": "stream",
     "text": [
      "Requirement already satisfied: akinator.py in c:\\users\\user\\appdata\\local\\packages\\pythonsoftwarefoundation.python.3.10_qbz5n2kfra8p0\\localcache\\local-packages\\python310\\site-packages (5.0.0)\n",
      "Requirement already satisfied: requests in c:\\users\\user\\appdata\\local\\packages\\pythonsoftwarefoundation.python.3.10_qbz5n2kfra8p0\\localcache\\local-packages\\python310\\site-packages (from akinator.py) (2.27.1)\n",
      "Requirement already satisfied: charset-normalizer~=2.0.0 in c:\\users\\user\\appdata\\local\\packages\\pythonsoftwarefoundation.python.3.10_qbz5n2kfra8p0\\localcache\\local-packages\\python310\\site-packages (from requests->akinator.py) (2.0.12)\n",
      "Requirement already satisfied: urllib3<1.27,>=1.21.1 in c:\\users\\user\\appdata\\local\\packages\\pythonsoftwarefoundation.python.3.10_qbz5n2kfra8p0\\localcache\\local-packages\\python310\\site-packages (from requests->akinator.py) (1.26.9)\n",
      "Requirement already satisfied: idna<4,>=2.5 in c:\\users\\user\\appdata\\local\\packages\\pythonsoftwarefoundation.python.3.10_qbz5n2kfra8p0\\localcache\\local-packages\\python310\\site-packages (from requests->akinator.py) (3.3)\n",
      "Requirement already satisfied: certifi>=2017.4.17 in c:\\users\\user\\appdata\\local\\packages\\pythonsoftwarefoundation.python.3.10_qbz5n2kfra8p0\\localcache\\local-packages\\python310\\site-packages (from requests->akinator.py) (2022.5.18.1)\n",
      "Note: you may need to restart the kernel to use updated packages.\n"
     ]
    },
    {
     "name": "stderr",
     "output_type": "stream",
     "text": [
      "WARNING: You are using pip version 22.0.4; however, version 22.1.1 is available.\n",
      "You should consider upgrading via the 'C:\\Users\\user\\AppData\\Local\\Microsoft\\WindowsApps\\PythonSoftwareFoundation.Python.3.10_qbz5n2kfra8p0\\python.exe -m pip install --upgrade pip' command.\n"
     ]
    }
   ],
   "source": [
    "%pip install akinator.py \n",
    "import akinator \n",
    "aki = akinator.Akinator()\n",
    "from tkinter import *\n",
    "import requests\n",
    "import shutil\n",
    "from PIL import Image,ImageTk\n",
    "import webbrowser\n"
   ]
  },
  {
   "cell_type": "markdown",
   "metadata": {},
   "source": [
    "Se hace la declaración de la ventana principal."
   ]
  },
  {
   "cell_type": "code",
   "execution_count": 30,
   "metadata": {},
   "outputs": [],
   "source": [
    "root = Tk()\n",
    "root.title('Proyecto_IA')\n",
    "root.geometry(\"400x800\")\n",
    "\n",
    "def inicio():\n",
    "    etiqueta3 = tkinter.Label(root, text = aki.start_game(language= \"es_animals\"))#Se inicia API de akinator con configuración en español con animales\n",
    "    etiqueta3.pack()\n",
    "    botonr3.pack(expand=False ,side= tkinter.BOTTOM,anchor = \"se\",fill= \"both\")\n",
    "    botonr2.pack(expand=False ,side= tkinter.BOTTOM,anchor = \"s\",fill= \"both\")\n",
    "    botonr1.pack(expand=False ,side= tkinter.BOTTOM,anchor = \"sw\",fill= \"both\" )\n",
    "     \n",
    "def loop(a):\n",
    "    if aki.progression <= 80:\n",
    "        aki.answer(a)\n",
    "        etiqueta4 = tkinter.Label(root, text = aki.question)#Se inicia API de akinator con configuración en español con animales\n",
    "        etiqueta4.pack()\n",
    "    else:\n",
    "        aki.win()\n",
    "        abrir(aki.first_guess['name'],aki.first_guess['description'],aki.first_guess['absolute_picture_path'])\n",
    "def abrir(m,n,o):\n",
    "    url = o\n",
    "    r = requests.get(url, stream=True)\n",
    "    with open('image.png', 'wb') as f:\n",
    "        r.raw.decode_content = True\n",
    "        shutil.copyfileobj(r.raw, f)\n",
    "    global imagen\n",
    "    imagen=ImageTk.PhotoImage(Image.open('image.png'))\n",
    "    top=Toplevel()\n",
    "    top.title(m)\n",
    "    label1=Label(top,text=n)\n",
    "    label2=Label(top,image=imagen)\n",
    "    label3=Label(top, text='https://www.google.com/search?q='+m) \n",
    "    label1.pack()\n",
    "    label2.pack()\n",
    "    label3.pack()\n",
    "    label3.bind(\"<Button-1>\", callback)\n",
    "    top.mainloop()\n",
    "def callback(event):\n",
    "    webbrowser.open_new(event.widget.cget(\"text\"))   \n",
    "botonr1 = tkinter.Button(root, text = \"Si\", bg= \"#EA80B3\", command = lambda: loop(0))\n",
    "botonr2 = tkinter.Button(root, text = \"No\", bg= \"#EA80B3\", command = lambda: loop(1))\n",
    "botonr3 = tkinter.Button(root, text = \"No lo se\", bg= \"#EA80B3\", command = lambda: loop(\"i\"))  \n",
    "etiqueta = tkinter.Label(root, text = \"Identificador de animales con inteligencia Artificial\", bg = \"#800040\",fg = \"white\")\n",
    "etiqueta.pack(fill= tkinter.X)\n",
    "boton1 = tkinter.Button(root, text = \"iniciar\", command = inicio)\n",
    "boton1.pack()   \n",
    "etiqueta2 = tkinter.Label(root, text = \"Con la IA de akinator\", bg = \"#800040\",fg = \"white\")    \n",
    "etiqueta2.pack(side= tkinter.BOTTOM,fill= tkinter.X)\n",
    "root.mainloop()\n",
    "\n"
   ]
  },
  {
   "cell_type": "code",
   "execution_count": null,
   "metadata": {},
   "outputs": [],
   "source": []
  }
 ],
 "metadata": {
  "interpreter": {
   "hash": "7b1f2b33e866b0bf2409397e5f58ba9cdf170d3b7f64c8f359c79998e2f88ad4"
  },
  "kernelspec": {
   "display_name": "Python 3.10.4 64-bit (windows store)",
   "language": "python",
   "name": "python3"
  },
  "language_info": {
   "codemirror_mode": {
    "name": "ipython",
    "version": 3
   },
   "file_extension": ".py",
   "mimetype": "text/x-python",
   "name": "python",
   "nbconvert_exporter": "python",
   "pygments_lexer": "ipython3",
   "version": "3.10.4"
  },
  "orig_nbformat": 4
 },
 "nbformat": 4,
 "nbformat_minor": 2
}
